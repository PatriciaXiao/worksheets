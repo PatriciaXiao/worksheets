{
 "cells": [
  {
   "cell_type": "markdown",
   "metadata": {},
   "source": [
    "#Dictionaries#\n",
    "PyLadies SF beginners meetup 10/22/2015\n",
    "\n",
    "##Reference and Background Reading##\n",
    "\n",
    "* [Official documentation](https://docs.python.org/2/tutorial/datastructures.html#dictionaries) - official reference.\n",
    "* [Learn to Think Like a Computer Scientist (Dictionaries)](http://www.greenteapress.com/thinkpython/thinkCSpy/html/chap10.html) - recommended introductory reading.\n",
    "\n",
    "##Generally helpful things##\n",
    "* `help` function will display documentation for functions. Calling `help(int)` from the interactive command prompt will jump to a new screen with the documentation. Press `q` to exit.\n",
    "* `dir`  function will display all the methods that can be called on an object.\n",
    "* Reference sheets - if you are working through a Codecademy course (or any similar linear tutorial), you may find it helpful to keep a reference sheet such as [this one](http://www.cogsci.rpi.edu/~destem/igd/python_cheat_sheet.pdf) handy rather than jumping back and forth through the embedded tutorial documentations. "
   ]
  },
  {
   "cell_type": "markdown",
   "metadata": {},
   "source": [
    "##Error Handling##\n",
    "If you try to access a nonexistent key, Python will throw a `KeyError`. You can wrap your code in a `try`/`except` clause to handle the exception. "
   ]
  },
  {
   "cell_type": "code",
   "execution_count": 4,
   "metadata": {
    "collapsed": false
   },
   "outputs": [],
   "source": [
    "emails = {'Alice': 'alice@wonderland.com', 'Bob':'bob@example.com'}"
   ]
  },
  {
   "cell_type": "code",
   "execution_count": 5,
   "metadata": {
    "collapsed": false
   },
   "outputs": [
    {
     "name": "stdout",
     "output_type": "stream",
     "text": [
      "Alice's email address is alice@wonderland.com\n"
     ]
    },
    {
     "ename": "KeyError",
     "evalue": "'Paul'",
     "output_type": "error",
     "traceback": [
      "\u001b[0;31m---------------------------------------------------------------------------\u001b[0m",
      "\u001b[0;31mKeyError\u001b[0m                                  Traceback (most recent call last)",
      "\u001b[0;32m<ipython-input-5-0289d7c8b999>\u001b[0m in \u001b[0;36m<module>\u001b[0;34m()\u001b[0m\n\u001b[1;32m      5\u001b[0m \u001b[0;34m\u001b[0m\u001b[0m\n\u001b[1;32m      6\u001b[0m \u001b[0mlookup_email\u001b[0m\u001b[0;34m(\u001b[0m\u001b[0memails\u001b[0m\u001b[0;34m,\u001b[0m \u001b[0;34m'Alice'\u001b[0m\u001b[0;34m)\u001b[0m\u001b[0;34m\u001b[0m\u001b[0m\n\u001b[0;32m----> 7\u001b[0;31m \u001b[0mlookup_email\u001b[0m\u001b[0;34m(\u001b[0m\u001b[0memails\u001b[0m\u001b[0;34m,\u001b[0m \u001b[0;34m'Paul'\u001b[0m\u001b[0;34m)\u001b[0m\u001b[0;34m\u001b[0m\u001b[0m\n\u001b[0m",
      "\u001b[0;32m<ipython-input-5-0289d7c8b999>\u001b[0m in \u001b[0;36mlookup_email\u001b[0;34m(address_book, person)\u001b[0m\n\u001b[1;32m      1\u001b[0m \u001b[0;32mdef\u001b[0m \u001b[0mlookup_email\u001b[0m\u001b[0;34m(\u001b[0m\u001b[0maddress_book\u001b[0m\u001b[0;34m,\u001b[0m \u001b[0mperson\u001b[0m\u001b[0;34m)\u001b[0m\u001b[0;34m:\u001b[0m\u001b[0;34m\u001b[0m\u001b[0m\n\u001b[0;32m----> 2\u001b[0;31m     \u001b[0memail\u001b[0m \u001b[0;34m=\u001b[0m \u001b[0maddress_book\u001b[0m\u001b[0;34m[\u001b[0m\u001b[0mperson\u001b[0m\u001b[0;34m]\u001b[0m\u001b[0;34m\u001b[0m\u001b[0m\n\u001b[0m\u001b[1;32m      3\u001b[0m     \u001b[0;32mprint\u001b[0m\u001b[0;34m(\u001b[0m\u001b[0;34m\"{0}'s email address is {1}\"\u001b[0m\u001b[0;34m.\u001b[0m\u001b[0mformat\u001b[0m\u001b[0;34m(\u001b[0m\u001b[0mperson\u001b[0m\u001b[0;34m,\u001b[0m \u001b[0memail\u001b[0m\u001b[0;34m)\u001b[0m\u001b[0;34m)\u001b[0m\u001b[0;34m\u001b[0m\u001b[0m\n\u001b[1;32m      4\u001b[0m     \u001b[0;32mreturn\u001b[0m \u001b[0memail\u001b[0m\u001b[0;34m\u001b[0m\u001b[0m\n\u001b[1;32m      5\u001b[0m \u001b[0;34m\u001b[0m\u001b[0m\n",
      "\u001b[0;31mKeyError\u001b[0m: 'Paul'"
     ]
    }
   ],
   "source": [
    "def lookup_email(address_book, person):\n",
    "    email = address_book[person]\n",
    "    print(\"{0}'s email address is {1}\".format(person, email))\n",
    "    return email\n",
    "\n",
    "lookup_email(emails, 'Alice')\n",
    "lookup_email(emails, 'Paul')"
   ]
  },
  {
   "cell_type": "code",
   "execution_count": 7,
   "metadata": {
    "collapsed": false
   },
   "outputs": [
    {
     "name": "stdout",
     "output_type": "stream",
     "text": [
      "Alice's email address is alice@wonderland.com\n",
      "Paul was not found in the address book\n"
     ]
    }
   ],
   "source": [
    "def lookup_email(address_book, person):\n",
    "    try:\n",
    "        email = address_book[person]\n",
    "        print(\"{0}'s email address is {1}\".format(person, email))\n",
    "    except KeyError:\n",
    "        email = None\n",
    "        print(\"{0} was not found in the address book\".format(person))\n",
    "    return email\n",
    "\n",
    "lookup_email(emails, 'Alice')\n",
    "lookup_email(emails, 'Paul')"
   ]
  },
  {
   "cell_type": "markdown",
   "metadata": {},
   "source": [
    "##Things to watch out for##\n",
    "stuff"
   ]
  },
  {
   "cell_type": "markdown",
   "metadata": {},
   "source": [
    "##Dictionaries in Real Life##\n",
    "\n",
    "If you find yourself wishing that dictionaries were ordered, could supply default values when assigning new keys, "
   ]
  },
  {
   "cell_type": "markdown",
   "metadata": {},
   "source": [
    "##Python 2 vs Python 3##\n",
    "more stuff"
   ]
  },
  {
   "cell_type": "code",
   "execution_count": null,
   "metadata": {
    "collapsed": true
   },
   "outputs": [],
   "source": []
  }
 ],
 "metadata": {
  "kernelspec": {
   "display_name": "Python 2",
   "language": "python",
   "name": "python2"
  },
  "language_info": {
   "codemirror_mode": {
    "name": "ipython",
    "version": 2
   },
   "file_extension": ".py",
   "mimetype": "text/x-python",
   "name": "python",
   "nbconvert_exporter": "python",
   "pygments_lexer": "ipython2",
   "version": "2.7.10"
  }
 },
 "nbformat": 4,
 "nbformat_minor": 0
}
