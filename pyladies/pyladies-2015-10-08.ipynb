{
 "cells": [
  {
   "cell_type": "markdown",
   "metadata": {},
   "source": [
    "###Exercise 1: Count the elements in a list: len(li)"
   ]
  },
  {
   "cell_type": "code",
   "execution_count": 4,
   "metadata": {
    "collapsed": false
   },
   "outputs": [
    {
     "name": "stdout",
     "output_type": "stream",
     "text": [
      "The list my_list_1 has 5 elements\n"
     ]
    }
   ],
   "source": [
    "my_list_1 = [2, 4, 6, 8, 10]\n",
    "\n",
    "print (\"The list my_list_1 has {0} elements\".format(len(my_list_1))) "
   ]
  },
  {
   "cell_type": "markdown",
   "metadata": {},
   "source": [
    "###Exercise 2 : Add 12 and 14 to the end of the list: li.append()"
   ]
  },
  {
   "cell_type": "code",
   "execution_count": 5,
   "metadata": {
    "collapsed": false
   },
   "outputs": [
    {
     "name": "stdout",
     "output_type": "stream",
     "text": [
      "('The list my_list_1 is now', [2, 4, 6, 8, 10, 12, 14, 12, 14])\n"
     ]
    }
   ],
   "source": [
    "my_list_1 \n",
    "my_list_1.append(12)\n",
    "my_list_1.append(14)\n",
    "\n",
    "#OR:\n",
    "\n",
    "my_list_1 = my_list_1 + [12, 14]\n",
    "\n",
    "print (\"The list my_list_1 is now\", my_list_1)"
   ]
  },
  {
   "cell_type": "markdown",
   "metadata": {},
   "source": [
    "###Exercise 3 : Add 0 to the beginning of the list "
   ]
  },
  {
   "cell_type": "code",
   "execution_count": 6,
   "metadata": {
    "collapsed": false
   },
   "outputs": [
    {
     "name": "stdout",
     "output_type": "stream",
     "text": [
      "('The list my_list_1 is now', [0, 0, 2, 4, 6, 8, 10, 12, 14, 12, 14])\n"
     ]
    }
   ],
   "source": [
    "my_list_1 =  [0] + my_list_1\n",
    "#OR \n",
    "my_list_1.insert(0, 0)\n",
    "print (\"The list my_list_1 is now\", my_list_1)"
   ]
  },
  {
   "cell_type": "markdown",
   "metadata": {},
   "source": [
    "###Exercise 4: Create a new list using `my_list_1`\n",
    "with the values [0, 4, 6, 8, 10, 14] (that is, delete 2 and 12).\n"
   ]
  },
  {
   "cell_type": "code",
   "execution_count": 9,
   "metadata": {
    "collapsed": false
   },
   "outputs": [
    {
     "name": "stdout",
     "output_type": "stream",
     "text": [
      "('The list my_list_2 is', [0, 0, 4, 6, 8, 10, 14, 12, 14])\n"
     ]
    }
   ],
   "source": [
    "# li.remove()\n",
    "\n",
    "# del li[index of item to delete]\n",
    "# del li[index of item to delete]\n",
    "\n",
    "# remove works better in this case\n",
    "\n",
    "# my_list_2 = my_list_1.copy()\n",
    "my_list_2 = list(my_list_1)\n",
    "my_list_2.remove(2)\n",
    "my_list_2.remove(12)\n",
    "\n",
    "print(\"The list my_list_2 is\", my_list_2)"
   ]
  },
  {
   "cell_type": "markdown",
   "metadata": {},
   "source": [
    "###Exercise 5 : Create a new list where the values are divided by 3"
   ]
  },
  {
   "cell_type": "code",
   "execution_count": 10,
   "metadata": {
    "collapsed": false
   },
   "outputs": [
    {
     "name": "stdout",
     "output_type": "stream",
     "text": [
      "('The list my_list_2 is', [0.0, 0.0, 0.6666666666666666, 1.3333333333333333, 2.0, 2.6666666666666665, 3.3333333333333335, 4.0, 4.666666666666667, 4.0, 4.666666666666667])\n"
     ]
    }
   ],
   "source": [
    "my_list_3 = my_list_1 \n",
    "my_list_3 = []\n",
    "for item in my_list_1:\n",
    "    my_list_3.append(item/3.0)\n",
    "  \n",
    "print(\"The list my_list_2 is\", my_list_3)"
   ]
  },
  {
   "cell_type": "markdown",
   "metadata": {},
   "source": [
    "###Exercise 6 : print all the elements in the list (use direct for loop)"
   ]
  },
  {
   "cell_type": "code",
   "execution_count": 11,
   "metadata": {
    "collapsed": false
   },
   "outputs": [
    {
     "name": "stdout",
     "output_type": "stream",
     "text": [
      "0.0\n",
      "0.0\n",
      "0.666666666667\n",
      "1.33333333333\n",
      "2.0\n",
      "2.66666666667\n",
      "3.33333333333\n",
      "4.0\n",
      "4.66666666667\n",
      "4.0\n",
      "4.66666666667\n"
     ]
    }
   ],
   "source": [
    "for element in my_list_3: \n",
    "    print element"
   ]
  },
  {
   "cell_type": "markdown",
   "metadata": {},
   "source": [
    "###Exercise 7 : print all the elements and their corresponding index\n",
    "Use `range` or `enumerate`"
   ]
  },
  {
   "cell_type": "code",
   "execution_count": 28,
   "metadata": {
    "collapsed": false
   },
   "outputs": [
    {
     "name": "stdout",
     "output_type": "stream",
     "text": [
      "\n",
      "Exercise 7 - using range\n",
      "0 0.0\n",
      "1 0.0\n",
      "2 0.666666666667\n",
      "3 1.33333333333\n",
      "4 2.0\n",
      "5 2.66666666667\n",
      "6 3.33333333333\n",
      "7 4.0\n",
      "8 4.66666666667\n",
      "9 4.0\n",
      "10 4.66666666667\n",
      "\n",
      "Exercise 7 - using enumerate\n",
      "[(0, 0.0), (1, 0.0), (2, 0.6666666666666666), (3, 1.3333333333333333), (4, 2.0), (5, 2.6666666666666665), (6, 3.3333333333333335), (7, 4.0), (8, 4.666666666666667), (9, 4.0), (10, 4.666666666666667)]\n"
     ]
    }
   ],
   "source": [
    "# Option 1 : range\n",
    "print(\"\\nExercise 7 - using range\")\n",
    " \n",
    "\n",
    "for index in range(len(my_list_3)):\n",
    "    print index, my_list_3[index]\n",
    "\n",
    "print(\"\\nExercise 7 - using enumerate\")\n",
    "# Option 2 : Enumerate\n",
    "\n",
    "#for element in my_list_3: \n",
    "#   print element\n",
    "\n",
    "\n",
    "print list(enumerate(my_list_3))"
   ]
  },
  {
   "cell_type": "markdown",
   "metadata": {},
   "source": [
    "###Exercse 8: print all the values of my_list_1 and my_list_2, side by side.\n",
    "Use `range` or `zip`"
   ]
  },
  {
   "cell_type": "code",
   "execution_count": 27,
   "metadata": {
    "collapsed": false
   },
   "outputs": [
    {
     "name": "stdout",
     "output_type": "stream",
     "text": [
      "\n",
      "Exercise 7 - using zip\n",
      "0 0.0\n",
      "0 0.0\n",
      "4 0.666666666667\n",
      "6 1.33333333333\n",
      "8 2.0\n",
      "10 2.66666666667\n",
      "14 3.33333333333\n",
      "12 4.0\n",
      "14 4.66666666667\n"
     ]
    }
   ],
   "source": [
    "# Option 8 : range\n",
    "\n",
    "\n",
    "print(\"\\nExercise 7 - using zip\")\n",
    "# Option 8 : zip\n",
    "\n",
    "#zipped = zip(list_var, list_var)\n",
    "#print zipped \n",
    "\n",
    "#OR \n",
    "\n",
    "for  element_in_2,  element_in_3 in zip(my_list_2, my_list_3):\n",
    "        print  element_in_2, element_in_3"
   ]
  },
  {
   "cell_type": "markdown",
   "metadata": {},
   "source": [
    "###Exercise 9 : Sort the my_list_4 in ascending order"
   ]
  },
  {
   "cell_type": "code",
   "execution_count": 26,
   "metadata": {
    "collapsed": false
   },
   "outputs": [
    {
     "name": "stdout",
     "output_type": "stream",
     "text": [
      "('my_list_4 in ascending order is', [3, 4, 8, 9, 10])\n"
     ]
    }
   ],
   "source": [
    "my_list_4 = [10, 4, 3, 8, 9]\n",
    "print(\"my_list_4 in ascending order is\", sorted(my_list_4))\n",
    "\n",
    "# my_list_4.sort() prints 'none'"
   ]
  },
  {
   "cell_type": "markdown",
   "metadata": {},
   "source": [
    "###Exercise 10 : Sort the list_4"
   ]
  },
  {
   "cell_type": "code",
   "execution_count": 17,
   "metadata": {
    "collapsed": false
   },
   "outputs": [
    {
     "name": "stdout",
     "output_type": "stream",
     "text": [
      "\n",
      "Exercise 10\n",
      "('my_list_4 in descending order is', [10, 9, 8, 4, 3])\n",
      "What's your hobby?drawing\n",
      "What's your hobby?fencing\n",
      "What's your hobby?makeup\n"
     ]
    }
   ],
   "source": [
    "my_list_4 = [10, 4, 3, 8, 9]\n",
    "\n",
    "print(\"my_list_4 in descending order is\", sorted(my_list_4, reverse=True))\n",
    "\n",
    "hobbies = []\n",
    "\n",
    "# Add your code below!\n",
    "for i in range(3): \n",
    "    hobby = raw_input(\"What's your hobby?\")\n",
    "    hobbies.append(hobby) "
   ]
  },
  {
   "cell_type": "code",
   "execution_count": 24,
   "metadata": {
    "collapsed": false
   },
   "outputs": [
    {
     "name": "stdout",
     "output_type": "stream",
     "text": [
      "What's your hobby?alskdjf\n",
      "What's your hobby?kjhkjh\n",
      "What's your hobby?3904i0\n"
     ]
    }
   ],
   "source": [
    "# Add your code below!\n",
    "for i in range(3): \n",
    "    hobby = raw_input(\"What's your hobby?\")\n",
    "    hobbies.append(hobby) "
   ]
  },
  {
   "cell_type": "markdown",
   "metadata": {},
   "source": [
    "`zip` will create pairs of elements when passed two lists, \n",
    "and will stop at the end of the shorter list.\n",
    "`zip` can handle three or more lists as well!\n",
    "\n",
    "Compare each pair of elements and print the larger of the two."
   ]
  },
  {
   "cell_type": "code",
   "execution_count": 23,
   "metadata": {
    "collapsed": false
   },
   "outputs": [
    {
     "name": "stdout",
     "output_type": "stream",
     "text": [
      "3\n",
      "9\n",
      "17\n",
      "15\n",
      "30\n",
      "Your choices are:\n",
      "1 pizza\n",
      "2 pasta\n",
      "3 salad\n",
      "4 nachos\n"
     ]
    }
   ],
   "source": [
    "list_a = [3, 9, 17, 15, 19]\n",
    "list_b = [2, 4, 8, 10, 30, 40, 50, 60, 70, 80, 90]\n",
    "\n",
    "for a, b in zip(list_a, list_b):\n",
    "    # Add your code here!\n",
    "   print max(a,b)\n",
    "################################################################################\n",
    "# the items should appear to start at index 1. \n",
    "choices = ['pizza', 'pasta', 'salad', 'nachos']\n",
    "\n",
    "print 'Your choices are:'\n",
    "for index, item in enumerate(choices):\n",
    "    print index+1, item\n",
    "################################################################################\n",
    "\n",
    "def purify(number): \n",
    "    new_list = []\n",
    "    for num in number: \n",
    "        if num % 2 == 0:\n",
    "            new_list.append(num) \n",
    "    return new_list \n",
    "################################################################################\n",
    "# build a list of the numbers from 0 to 50 (inclusive).\n",
    "\n",
    "my_list = range(51)"
   ]
  },
  {
   "cell_type": "code",
   "execution_count": null,
   "metadata": {
    "collapsed": true
   },
   "outputs": [],
   "source": []
  }
 ],
 "metadata": {
  "kernelspec": {
   "display_name": "Python 2",
   "language": "python",
   "name": "python2"
  },
  "language_info": {
   "codemirror_mode": {
    "name": "ipython",
    "version": 2
   },
   "file_extension": ".py",
   "mimetype": "text/x-python",
   "name": "python",
   "nbconvert_exporter": "python",
   "pygments_lexer": "ipython2",
   "version": "2.7.10"
  }
 },
 "nbformat": 4,
 "nbformat_minor": 0
}
